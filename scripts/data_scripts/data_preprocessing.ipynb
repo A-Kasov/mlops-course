{
 "cells": [
  {
   "cell_type": "code",
   "execution_count": 23,
   "id": "b5c249ed-1703-47da-993b-203a885510d3",
   "metadata": {},
   "outputs": [],
   "source": [
    "import pandas as pd"
   ]
  },
  {
   "cell_type": "code",
   "execution_count": 37,
   "id": "91b27857-d400-46b8-898c-372340b1343e",
   "metadata": {},
   "outputs": [],
   "source": [
    "train = pd.read_csv(\"../../data/raw/train.csv\", index_col=0)\n",
    "test = pd.read_csv(\"../../data/raw/test.csv\", index_col=0)"
   ]
  },
  {
   "cell_type": "code",
   "execution_count": 38,
   "id": "f9b91778-bc88-4d77-80a1-3f8f95100d0b",
   "metadata": {},
   "outputs": [],
   "source": [
    "train['Sex'] = train['Sex'].replace({'male':1, 'female':0})\n",
    "test['Sex'] = test['Sex'].replace({'male':1, 'female':0})\n",
    "\n",
    "train[\"Age\"].fillna(train[\"Age\"].mean(), inplace=True)\n",
    "test[\"Age\"].fillna(train[\"Age\"].mean(), inplace=True)"
   ]
  },
  {
   "cell_type": "code",
   "execution_count": 39,
   "id": "ef491092-6357-4b85-9edf-318f2f4e45d9",
   "metadata": {},
   "outputs": [],
   "source": [
    "features_list = ['Pclass', 'Sex', 'Age', 'SibSp', 'Parch']"
   ]
  },
  {
   "cell_type": "code",
   "execution_count": 40,
   "id": "d751d855-480e-4e3f-b504-6ae5bb7a721a",
   "metadata": {},
   "outputs": [],
   "source": [
    "test[features_list].to_csv(\"../../data/baselines/test.csv\", columns=features_list)"
   ]
  },
  {
   "cell_type": "code",
   "execution_count": 41,
   "id": "018d0efd-355f-47a9-ad8d-6874e4be3e82",
   "metadata": {},
   "outputs": [],
   "source": [
    "features_list.append('Survived')"
   ]
  },
  {
   "cell_type": "code",
   "execution_count": 42,
   "id": "379ca957-f63a-4e88-b1da-1d4aa24e1715",
   "metadata": {},
   "outputs": [],
   "source": [
    "train[features_list].to_csv(\"../../data/baselines/train.csv\", columns=features_list)"
   ]
  }
 ],
 "metadata": {
  "kernelspec": {
   "display_name": "Python 3 (ipykernel)",
   "language": "python",
   "name": "python3"
  },
  "language_info": {
   "codemirror_mode": {
    "name": "ipython",
    "version": 3
   },
   "file_extension": ".py",
   "mimetype": "text/x-python",
   "name": "python",
   "nbconvert_exporter": "python",
   "pygments_lexer": "ipython3",
   "version": "3.11.4"
  }
 },
 "nbformat": 4,
 "nbformat_minor": 5
}
